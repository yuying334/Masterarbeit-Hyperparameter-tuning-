{
 "cells": [
  {
   "cell_type": "code",
   "execution_count": null,
   "metadata": {},
   "outputs": [],
   "source": [
    "from textwrap import dedent\n",
    "\n",
    "import dash_core_components as dcc\n",
    "import dash_html_components as html\n",
    "\n",
    "\n",
    "# Display utility functions\n",
    "def _merge(a, b):\n",
    "    return dict(a, **b)\n",
    "\n",
    "\n",
    "def _omit(omitted_keys, d):\n",
    "    return {k: v for k, v in d.items() if k not in omitted_keys}\n",
    "\n",
    "\n",
    "# Custom Display Components\n",
    "def Card(children, **kwargs):\n",
    "    return html.Section(className=\"card\", children=children, **_omit([\"style\"], kwargs))\n",
    "\n",
    "\n",
    "\n",
    "\n",
    "\n",
    "def NamedSlider(name, **kwargs):\n",
    "    return html.Div(\n",
    "        style={\"padding\": \"60px 10px 0px 4px\",\n",
    "              },\n",
    "        children=[\n",
    "            html.P(f\"{name}:\"),\n",
    "            html.Div(style={\"margin-left\": \"6px\"}, children=dcc.Slider(**kwargs)),\n",
    "        ],\n",
    "    )\n",
    "\n",
    "\n",
    "def NamedDropdown(name, **kwargs):\n",
    "    return html.Div(\n",
    "        style={\"margin\": \"5px 15px 3px 3px\"},\n",
    "        children=[\n",
    "            html.P(children=f\"{name}:\", style={\"margin-left\": \"3px\",\n",
    "                                              \"margin-right\": \"15px\"}),\n",
    "            dcc.Dropdown(**kwargs),\n",
    "        ],\n",
    "    )\n",
    "\n",
    "\n",
    "def NamedRadioItems(name, **kwargs):\n",
    "    return html.Div(\n",
    "        style={\"padding\": \"20px 10px 25px 4px\"},\n",
    "        children=[html.P(children=f\"{name}:\"), dcc.RadioItems(**kwargs)],\n",
    "    )\n",
    "\n",
    "\n",
    "# Non-generic\n",
    "def DemoDescription(filename, strip=False):\n",
    "    with open(filename, \"r\") as file:\n",
    "        text = file.read()\n",
    "\n",
    "    if strip:\n",
    "        text = text.split(\"<Start Description>\")[-1]\n",
    "        text = text.split(\"<End Description>\")[0]\n",
    "\n",
    "    return html.Div(\n",
    "        className=\"row\",\n",
    "        style={\n",
    "            \"padding\": \"15px 30px 27px\",\n",
    "            \"margin\": \"45px auto 45px\",\n",
    "            \"width\": \"80%\",\n",
    "            \"max-width\": \"1024px\",\n",
    "            \"borderRadius\": 5,\n",
    "            \"border\": \"thin lightgrey solid\",\n",
    "            \"font-family\": \"Roboto, sans-serif\",\n",
    "        },\n",
    "        children=dcc.Markdown(dedent(text)),\n",
    "    )"
   ]
  }
 ],
 "metadata": {
  "kernelspec": {
   "display_name": "Python 3",
   "language": "python",
   "name": "python3"
  },
  "language_info": {
   "codemirror_mode": {
    "name": "ipython",
    "version": 3
   },
   "file_extension": ".py",
   "mimetype": "text/x-python",
   "name": "python",
   "nbconvert_exporter": "python",
   "pygments_lexer": "ipython3",
   "version": "3.8.3"
  },
  "toc": {
   "base_numbering": 1,
   "nav_menu": {},
   "number_sections": true,
   "sideBar": true,
   "skip_h1_title": false,
   "title_cell": "Table of Contents",
   "title_sidebar": "Contents",
   "toc_cell": false,
   "toc_position": {},
   "toc_section_display": true,
   "toc_window_display": false
  },
  "varInspector": {
   "cols": {
    "lenName": 16,
    "lenType": 16,
    "lenVar": 40
   },
   "kernels_config": {
    "python": {
     "delete_cmd_postfix": "",
     "delete_cmd_prefix": "del ",
     "library": "var_list.py",
     "varRefreshCmd": "print(var_dic_list())"
    },
    "r": {
     "delete_cmd_postfix": ") ",
     "delete_cmd_prefix": "rm(",
     "library": "var_list.r",
     "varRefreshCmd": "cat(var_dic_list()) "
    }
   },
   "types_to_exclude": [
    "module",
    "function",
    "builtin_function_or_method",
    "instance",
    "_Feature"
   ],
   "window_display": false
  }
 },
 "nbformat": 4,
 "nbformat_minor": 4
}
